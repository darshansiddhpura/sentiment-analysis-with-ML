{
 "cells": [
  {
   "cell_type": "markdown",
   "id": "4d6fd879",
   "metadata": {},
   "source": [
    "# Markeing Final Project \n",
    "\n",
    "### Name = Darshan Siddhpura\n",
    "### Student ID = 0774684\n",
    "\n",
    "## Subject \n",
    "### How to identify overall response of customers towards the product based on the comments using Sentiment Analysis."
   ]
  },
  {
   "cell_type": "code",
   "execution_count": 1,
   "id": "ddaead1c",
   "metadata": {},
   "outputs": [],
   "source": [
    "# Basic Operation\n",
    "\n",
    "import pandas as pd\n",
    "import numpy as np\n",
    "import nltk\n",
    "\n",
    "\n",
    "# Text Preprocessing & Cleaning\n",
    "from sklearn.feature_extraction.text import TfidfVectorizer\n",
    "from nltk.corpus import stopwords\n",
    "import re\n",
    "\n",
    "# Split Data \n",
    "from sklearn.model_selection import train_test_split \n",
    "\n",
    "# Handling Imbalanced\n",
    "from imblearn.over_sampling import SMOTE \n",
    "\n",
    "# Model Building\n",
    "from sklearn.ensemble import GradientBoostingClassifier\n",
    "from sklearn.linear_model import LogisticRegression\n",
    "from sklearn.ensemble import RandomForestClassifier \n",
    "from sklearn.tree import DecisionTreeClassifier\n",
    "from sklearn.naive_bayes import MultinomialNB\n",
    "from xgboost import XGBClassifier\n",
    "from sklearn.svm import SVC\n",
    "\n",
    "# Performance Metrics  \n",
    "from sklearn.metrics import classification_report , confusion_matrix , accuracy_score \n",
    "\n",
    "\n",
    "# Data Visualization \n",
    "import matplotlib.pyplot as plt\n",
    "from wordcloud import WordCloud\n",
    "from termcolor import cprint\n",
    "import seaborn as sns\n",
    "import warnings   \n"
   ]
  },
  {
   "cell_type": "code",
   "execution_count": 2,
   "id": "023f5478",
   "metadata": {},
   "outputs": [],
   "source": [
    "#Data\n",
    "df=pd.read_csv(\"review_data.csv\")"
   ]
  },
  {
   "cell_type": "markdown",
   "id": "0b93422c",
   "metadata": {},
   "source": [
    "## EDA"
   ]
  },
  {
   "cell_type": "code",
   "execution_count": 3,
   "id": "3e8c5407",
   "metadata": {},
   "outputs": [
    {
     "data": {
      "text/html": [
       "<div>\n",
       "<style scoped>\n",
       "    .dataframe tbody tr th:only-of-type {\n",
       "        vertical-align: middle;\n",
       "    }\n",
       "\n",
       "    .dataframe tbody tr th {\n",
       "        vertical-align: top;\n",
       "    }\n",
       "\n",
       "    .dataframe thead th {\n",
       "        text-align: right;\n",
       "    }\n",
       "</style>\n",
       "<table border=\"1\" class=\"dataframe\">\n",
       "  <thead>\n",
       "    <tr style=\"text-align: right;\">\n",
       "      <th></th>\n",
       "      <th>app_id</th>\n",
       "      <th>author</th>\n",
       "      <th>rating</th>\n",
       "      <th>posted_at</th>\n",
       "      <th>body</th>\n",
       "      <th>helpful_count</th>\n",
       "      <th>developer_reply</th>\n",
       "      <th>developer_reply_posted_at</th>\n",
       "    </tr>\n",
       "  </thead>\n",
       "  <tbody>\n",
       "    <tr>\n",
       "      <th>0</th>\n",
       "      <td>b1da53a4-0474-4700-9620-bf386bc033fb</td>\n",
       "      <td>Consuela</td>\n",
       "      <td>5</td>\n",
       "      <td>August 6, 2020</td>\n",
       "      <td>Great and super fast customer service! Highly ...</td>\n",
       "      <td>0</td>\n",
       "      <td>NaN</td>\n",
       "      <td>NaN</td>\n",
       "    </tr>\n",
       "    <tr>\n",
       "      <th>1</th>\n",
       "      <td>b1da53a4-0474-4700-9620-bf386bc033fb</td>\n",
       "      <td>L'Atelier Global</td>\n",
       "      <td>5</td>\n",
       "      <td>August 4, 2020</td>\n",
       "      <td>Still setting up my store, and after initially...</td>\n",
       "      <td>0</td>\n",
       "      <td>NaN</td>\n",
       "      <td>NaN</td>\n",
       "    </tr>\n",
       "    <tr>\n",
       "      <th>2</th>\n",
       "      <td>b1da53a4-0474-4700-9620-bf386bc033fb</td>\n",
       "      <td>city'super E-Shop</td>\n",
       "      <td>5</td>\n",
       "      <td>August 4, 2020</td>\n",
       "      <td>This is an excellent search app, which they ha...</td>\n",
       "      <td>0</td>\n",
       "      <td>NaN</td>\n",
       "      <td>NaN</td>\n",
       "    </tr>\n",
       "    <tr>\n",
       "      <th>3</th>\n",
       "      <td>b1da53a4-0474-4700-9620-bf386bc033fb</td>\n",
       "      <td>PortableHandwashing.com</td>\n",
       "      <td>5</td>\n",
       "      <td>July 30, 2020</td>\n",
       "      <td>A+, great great great customer service! thanks...</td>\n",
       "      <td>0</td>\n",
       "      <td>NaN</td>\n",
       "      <td>NaN</td>\n",
       "    </tr>\n",
       "    <tr>\n",
       "      <th>4</th>\n",
       "      <td>b1da53a4-0474-4700-9620-bf386bc033fb</td>\n",
       "      <td>ICCTUNING</td>\n",
       "      <td>5</td>\n",
       "      <td>July 28, 2020</td>\n",
       "      <td>I'm begginig to use this app, the search engin...</td>\n",
       "      <td>0</td>\n",
       "      <td>NaN</td>\n",
       "      <td>NaN</td>\n",
       "    </tr>\n",
       "  </tbody>\n",
       "</table>\n",
       "</div>"
      ],
      "text/plain": [
       "                                 app_id                   author  rating  \\\n",
       "0  b1da53a4-0474-4700-9620-bf386bc033fb                 Consuela       5   \n",
       "1  b1da53a4-0474-4700-9620-bf386bc033fb         L'Atelier Global       5   \n",
       "2  b1da53a4-0474-4700-9620-bf386bc033fb        city'super E-Shop       5   \n",
       "3  b1da53a4-0474-4700-9620-bf386bc033fb  PortableHandwashing.com       5   \n",
       "4  b1da53a4-0474-4700-9620-bf386bc033fb                ICCTUNING       5   \n",
       "\n",
       "        posted_at                                               body  \\\n",
       "0  August 6, 2020  Great and super fast customer service! Highly ...   \n",
       "1  August 4, 2020  Still setting up my store, and after initially...   \n",
       "2  August 4, 2020  This is an excellent search app, which they ha...   \n",
       "3   July 30, 2020  A+, great great great customer service! thanks...   \n",
       "4   July 28, 2020  I'm begginig to use this app, the search engin...   \n",
       "\n",
       "   helpful_count developer_reply developer_reply_posted_at  \n",
       "0              0             NaN                       NaN  \n",
       "1              0             NaN                       NaN  \n",
       "2              0             NaN                       NaN  \n",
       "3              0             NaN                       NaN  \n",
       "4              0             NaN                       NaN  "
      ]
     },
     "execution_count": 3,
     "metadata": {},
     "output_type": "execute_result"
    }
   ],
   "source": [
    "df.head()"
   ]
  },
  {
   "cell_type": "code",
   "execution_count": 4,
   "id": "66f68074",
   "metadata": {},
   "outputs": [
    {
     "data": {
      "text/plain": [
       "(4999, 8)"
      ]
     },
     "execution_count": 4,
     "metadata": {},
     "output_type": "execute_result"
    }
   ],
   "source": [
    "#Shape of the data\n",
    "df.shape"
   ]
  },
  {
   "cell_type": "code",
   "execution_count": 5,
   "id": "37e4b2df",
   "metadata": {},
   "outputs": [
    {
     "name": "stdout",
     "output_type": "stream",
     "text": [
      "app_id                          0\n",
      "author                          0\n",
      "rating                          0\n",
      "posted_at                       0\n",
      "body                            6\n",
      "helpful_count                   0\n",
      "developer_reply              4421\n",
      "developer_reply_posted_at    4421\n",
      "dtype: int64\n"
     ]
    }
   ],
   "source": [
    "# showing null values of data\n",
    "print(df.isnull().sum()) "
   ]
  },
  {
   "cell_type": "code",
   "execution_count": 6,
   "id": "348b20fd",
   "metadata": {},
   "outputs": [
    {
     "name": "stdout",
     "output_type": "stream",
     "text": [
      "\u001b[31mTotal number of sentiments of shopify :\u001b[0m\n",
      "5    3039\n",
      "4    1225\n",
      "1     350\n",
      "3     289\n",
      "2      96\n",
      "Name: rating, dtype: int64\n"
     ]
    },
    {
     "data": {
      "image/png": "[encoded data removed]",
      "text/plain": [
       "<Figure size 720x576 with 1 Axes>"
      ]
     },
     "metadata": {
      "needs_background": "light"
     },
     "output_type": "display_data"
    }
   ],
   "source": [
    "#checking the Total Number of Null Values in dataset. using bar plot\n",
    "\n",
    "cprint(\"Total number of sentiments of shopify :\",'red')\n",
    "print(df.rating.value_counts())\n",
    "\n",
    "plt.figure(figsize = (10, 8))\n",
    "ax = sns.countplot(x = 'rating', data = df, palette = 'pastel')\n",
    "ax.set_title(label = 'Total number of sentiments of shopify', fontsize = 20)\n",
    "\n",
    "plt.show()"
   ]
  },
  {
   "cell_type": "code",
   "execution_count": 7,
   "id": "a5eb4ed3",
   "metadata": {},
   "outputs": [],
   "source": [
    "# Spliting Rating Numbers into text Sentiments\n",
    "\n",
    "very_positive = df[df['rating'] == 'very_positive']\n",
    "positive = df[df['rating'] == 'positive']\n",
    "neutral = df[df['rating'] == 'neutral']\n",
    "negative = df[df['rating'] == 'negative']\n",
    "very_negative = df[df['rating'] == 'very_negative']\n"
   ]
  },
  {
   "cell_type": "code",
   "execution_count": 8,
   "id": "c90500cc",
   "metadata": {},
   "outputs": [],
   "source": [
    "# Creating the Function for converting 1,2,3,4,5 ratings into Sentiments.\n",
    "\n",
    "def convert_Sentiment(sentiment):\n",
    "    if  sentiment == 5:\n",
    "        return \"very positive\"\n",
    "    elif sentiment == 4:\n",
    "        return \"positive\"\n",
    "    elif sentiment == 3:\n",
    "        return \"neutral\"\n",
    "    elif sentiment == 2:\n",
    "        return \"negative\"\n",
    "    elif sentiment == 1:\n",
    "        return \"very negative\""
   ]
  },
  {
   "cell_type": "code",
   "execution_count": 9,
   "id": "97da7400",
   "metadata": {},
   "outputs": [],
   "source": [
    "# Apply convert_Sentiment function (Converting the values)\n",
    "df.rating = df.rating.apply(lambda x : convert_Sentiment(x))"
   ]
  },
  {
   "cell_type": "code",
   "execution_count": 10,
   "id": "5e8bd975",
   "metadata": {},
   "outputs": [
    {
     "data": {
      "text/plain": [
       "0       very positive\n",
       "1       very positive\n",
       "2       very positive\n",
       "3       very positive\n",
       "4       very positive\n",
       "            ...      \n",
       "4994    very positive\n",
       "4995    very positive\n",
       "4996    very negative\n",
       "4997          neutral\n",
       "4998         positive\n",
       "Name: rating, Length: 4999, dtype: object"
      ]
     },
     "execution_count": 10,
     "metadata": {},
     "output_type": "execute_result"
    }
   ],
   "source": [
    "df.rating"
   ]
  },
  {
   "cell_type": "code",
   "execution_count": 11,
   "id": "228bd03a",
   "metadata": {},
   "outputs": [],
   "source": [
    "# Ceated the all neccessory functions to Removing the unneccessory part in comments.\n",
    "\n",
    "# Remove stop words\n",
    "def remove_stopwords(text):\n",
    "    text = ' '.join([word for word in text.split() if word not in (stopwords.words('english'))])\n",
    "    return text\n",
    "\n",
    "# Remove url  \n",
    "def remove_url(text):\n",
    "    url = re.compile(r'https?://\\S+|www\\.\\S+')\n",
    "    return url.sub(r'',text)\n",
    "\n",
    "# Remove punct\n",
    "def remove_punct(text):\n",
    "    table = str.maketrans('', '', string.punctuation)\n",
    "    return text.translate(table)\n",
    "\n",
    "# Remove html \n",
    "def remove_html(text):\n",
    "    html=re.compile(r'<.*?>')\n",
    "    return html.sub(r'',text)\n",
    "\n",
    "# Remove @username\n",
    "def remove_username(text):\n",
    "    return re.sub('@[^\\s]+','',text)\n",
    "\n",
    "# Remove emojis\n",
    "def remove_emoji(text):\n",
    "    emoji_pattern = re.compile(\"[\"\n",
    "                           u\"\\U0001F600-\\U0001F64F\"  # emoticons\n",
    "                           u\"\\U0001F300-\\U0001F5FF\"  # symbols & pictographs\n",
    "                           u\"\\U0001F680-\\U0001F6FF\"  # transport & map symbols\n",
    "                           u\"\\U0001F1E0-\\U0001F1FF\"  # flags (iOS)\n",
    "                           u\"\\U00002702-\\U000027B0\"\n",
    "                           u\"\\U000024C2-\\U0001F251\"\n",
    "                           \"]+\", flags=re.UNICODE)\n",
    "    return emoji_pattern.sub(r'', text)"
   ]
  },
  {
   "cell_type": "code",
   "execution_count": 12,
   "id": "7c773d9f",
   "metadata": {},
   "outputs": [],
   "source": [
    "# converting the deconstract words to consturct word. such as ( won't >> will not have ).\n",
    "\n",
    "# Decontraction text\n",
    "def decontraction(text):\n",
    "    text = re.sub(r\"won\\'t\", \" will not\", text)\n",
    "    text = re.sub(r\"won\\'t've\", \" will not have\", text)\n",
    "    text = re.sub(r\"can\\'t\", \" can not\", text)\n",
    "    text = re.sub(r\"don\\'t\", \" do not\", text)\n",
    "    \n",
    "    text = re.sub(r\"can\\'t've\", \" can not have\", text)\n",
    "    text = re.sub(r\"ma\\'am\", \" madam\", text)\n",
    "    text = re.sub(r\"let\\'s\", \" let us\", text)\n",
    "    text = re.sub(r\"ain\\'t\", \" am not\", text)\n",
    "    text = re.sub(r\"shan\\'t\", \" shall not\", text)\n",
    "    text = re.sub(r\"sha\\n't\", \" shall not\", text)\n",
    "    text = re.sub(r\"o\\'clock\", \" of the clock\", text)\n",
    "    text = re.sub(r\"y\\'all\", \" you all\", text)\n",
    "    text = re.sub(r\"n\\'t\", \" not\", text)\n",
    "    text = re.sub(r\"n\\'t've\", \" not have\", text)\n",
    "    text = re.sub(r\"\\'re\", \" are\", text)\n",
    "    text = re.sub(r\"\\'s\", \" is\", text)\n",
    "    text = re.sub(r\"\\'d\", \" would\", text)\n",
    "    text = re.sub(r\"\\'d've\", \" would have\", text)\n",
    "    text = re.sub(r\"\\'ll\", \" will\", text)\n",
    "    text = re.sub(r\"\\'ll've\", \" will have\", text)\n",
    "    text = re.sub(r\"\\'t\", \" not\", text)\n",
    "    text = re.sub(r\"\\'ve\", \" have\", text)\n",
    "    text = re.sub(r\"\\'m\", \" am\", text)\n",
    "    text = re.sub(r\"\\'re\", \" are\", text)\n",
    "    return text  \n",
    "\n",
    "# Seperate alphanumeric\n",
    "def seperate_alphanumeric(text):\n",
    "    words = text\n",
    "    words = re.findall(r\"[^\\W\\d_]+|\\d+\", words)\n",
    "    return \" \".join(words)\n",
    "\n",
    "def cont_rep_char(text):\n",
    "    tchr = text.group(0) \n",
    "    \n",
    "    if len(tchr) > 1:\n",
    "        return tchr[0:2] \n",
    "\n",
    "def unique_char(rep, text):\n",
    "    substitute = re.sub(r'(\\w)\\1+', rep, text)\n",
    "    return substitute\n",
    "\n",
    "def char(text):\n",
    "    substitute = re.sub(r'[^a-zA-Z]',' ',text)\n",
    "    return substitute"
   ]
  },
  {
   "cell_type": "code",
   "execution_count": 13,
   "id": "3c5b05df",
   "metadata": {},
   "outputs": [],
   "source": [
    "# combaine negative reason with  Reviews (if exsist)\n",
    "\n",
    "df['final_text'] = df['body'].fillna('') + ' ' + df['rating'] \n",
    "\n",
    "# Apply functions on reviews\n",
    "\n",
    "df['final_text'] = df['final_text'].apply(lambda x : remove_username(x))\n",
    "df['final_text'] = df['final_text'].apply(lambda x : remove_url(x))\n",
    "df['final_text'] = df['final_text'].apply(lambda x : remove_emoji(x))\n",
    "df['final_text'] = df['final_text'].apply(lambda x : decontraction(x))\n",
    "df['final_text'] = df['final_text'].apply(lambda x : seperate_alphanumeric(x))\n",
    "df['final_text'] = df['final_text'].apply(lambda x : unique_char(cont_rep_char,x))\n",
    "df['final_text'] = df['final_text'].apply(lambda x : char(x))\n",
    "df['final_text'] = df['final_text'].apply(lambda x : x.lower())\n",
    "df['final_text'] = df['final_text'].apply(lambda x : remove_stopwords(x))"
   ]
  },
  {
   "cell_type": "code",
   "execution_count": 14,
   "id": "e2612153",
   "metadata": {},
   "outputs": [
    {
     "data": {
      "text/plain": [
       "0       great super fast customer service highly custo...\n",
       "1       still setting store initially paying another s...\n",
       "2       excellent search app well designed functions h...\n",
       "3       great great great customer service thanks matt...\n",
       "4       begginig use app search engine intuitive easy ...\n",
       "                              ...                        \n",
       "4994              app works well couldnt happier positive\n",
       "4995    thank free app think definitely improve conver...\n",
       "4996    everything app broken charged something wasnt ...\n",
       "4997    merci il nous demande de mettre un commentaire...\n",
       "4998    en tant que site europ en j utilise cette appl...\n",
       "Name: final_text, Length: 4999, dtype: object"
      ]
     },
     "execution_count": 14,
     "metadata": {},
     "output_type": "execute_result"
    }
   ],
   "source": [
    "# result\n",
    "df['final_text']"
   ]
  },
  {
   "cell_type": "code",
   "execution_count": 15,
   "id": "38a560df",
   "metadata": {},
   "outputs": [
    {
     "data": {
      "text/html": [
       "<div>\n",
       "<style scoped>\n",
       "    .dataframe tbody tr th:only-of-type {\n",
       "        vertical-align: middle;\n",
       "    }\n",
       "\n",
       "    .dataframe tbody tr th {\n",
       "        vertical-align: top;\n",
       "    }\n",
       "\n",
       "    .dataframe thead th {\n",
       "        text-align: right;\n",
       "    }\n",
       "</style>\n",
       "<table border=\"1\" class=\"dataframe\">\n",
       "  <thead>\n",
       "    <tr style=\"text-align: right;\">\n",
       "      <th></th>\n",
       "      <th>app_id</th>\n",
       "      <th>author</th>\n",
       "      <th>rating</th>\n",
       "      <th>posted_at</th>\n",
       "      <th>body</th>\n",
       "      <th>helpful_count</th>\n",
       "      <th>developer_reply</th>\n",
       "      <th>developer_reply_posted_at</th>\n",
       "      <th>final_text</th>\n",
       "    </tr>\n",
       "  </thead>\n",
       "  <tbody>\n",
       "    <tr>\n",
       "      <th>0</th>\n",
       "      <td>b1da53a4-0474-4700-9620-bf386bc033fb</td>\n",
       "      <td>Consuela</td>\n",
       "      <td>very positive</td>\n",
       "      <td>August 6, 2020</td>\n",
       "      <td>Great and super fast customer service! Highly ...</td>\n",
       "      <td>0</td>\n",
       "      <td>NaN</td>\n",
       "      <td>NaN</td>\n",
       "      <td>great super fast customer service highly custo...</td>\n",
       "    </tr>\n",
       "    <tr>\n",
       "      <th>1</th>\n",
       "      <td>b1da53a4-0474-4700-9620-bf386bc033fb</td>\n",
       "      <td>L'Atelier Global</td>\n",
       "      <td>very positive</td>\n",
       "      <td>August 4, 2020</td>\n",
       "      <td>Still setting up my store, and after initially...</td>\n",
       "      <td>0</td>\n",
       "      <td>NaN</td>\n",
       "      <td>NaN</td>\n",
       "      <td>still setting store initially paying another s...</td>\n",
       "    </tr>\n",
       "    <tr>\n",
       "      <th>2</th>\n",
       "      <td>b1da53a4-0474-4700-9620-bf386bc033fb</td>\n",
       "      <td>city'super E-Shop</td>\n",
       "      <td>very positive</td>\n",
       "      <td>August 4, 2020</td>\n",
       "      <td>This is an excellent search app, which they ha...</td>\n",
       "      <td>0</td>\n",
       "      <td>NaN</td>\n",
       "      <td>NaN</td>\n",
       "      <td>excellent search app well designed functions h...</td>\n",
       "    </tr>\n",
       "    <tr>\n",
       "      <th>3</th>\n",
       "      <td>b1da53a4-0474-4700-9620-bf386bc033fb</td>\n",
       "      <td>PortableHandwashing.com</td>\n",
       "      <td>very positive</td>\n",
       "      <td>July 30, 2020</td>\n",
       "      <td>A+, great great great customer service! thanks...</td>\n",
       "      <td>0</td>\n",
       "      <td>NaN</td>\n",
       "      <td>NaN</td>\n",
       "      <td>great great great customer service thanks matt...</td>\n",
       "    </tr>\n",
       "    <tr>\n",
       "      <th>4</th>\n",
       "      <td>b1da53a4-0474-4700-9620-bf386bc033fb</td>\n",
       "      <td>ICCTUNING</td>\n",
       "      <td>very positive</td>\n",
       "      <td>July 28, 2020</td>\n",
       "      <td>I'm begginig to use this app, the search engin...</td>\n",
       "      <td>0</td>\n",
       "      <td>NaN</td>\n",
       "      <td>NaN</td>\n",
       "      <td>begginig use app search engine intuitive easy ...</td>\n",
       "    </tr>\n",
       "    <tr>\n",
       "      <th>...</th>\n",
       "      <td>...</td>\n",
       "      <td>...</td>\n",
       "      <td>...</td>\n",
       "      <td>...</td>\n",
       "      <td>...</td>\n",
       "      <td>...</td>\n",
       "      <td>...</td>\n",
       "      <td>...</td>\n",
       "      <td>...</td>\n",
       "    </tr>\n",
       "    <tr>\n",
       "      <th>4994</th>\n",
       "      <td>b13f9c06-c950-419e-ab51-a8b73cd55738</td>\n",
       "      <td>Southinc</td>\n",
       "      <td>very positive</td>\n",
       "      <td>April 3, 2018</td>\n",
       "      <td>the app works very well and i couldnt be happier</td>\n",
       "      <td>0</td>\n",
       "      <td>NaN</td>\n",
       "      <td>NaN</td>\n",
       "      <td>app works well couldnt happier positive</td>\n",
       "    </tr>\n",
       "    <tr>\n",
       "      <th>4995</th>\n",
       "      <td>b13f9c06-c950-419e-ab51-a8b73cd55738</td>\n",
       "      <td>Jchats</td>\n",
       "      <td>very positive</td>\n",
       "      <td>April 3, 2018</td>\n",
       "      <td>THANK YOU FOR FREE APP.\\nI THINK THIS DEFINITE...</td>\n",
       "      <td>0</td>\n",
       "      <td>NaN</td>\n",
       "      <td>NaN</td>\n",
       "      <td>thank free app think definitely improve conver...</td>\n",
       "    </tr>\n",
       "    <tr>\n",
       "      <th>4996</th>\n",
       "      <td>b6ffbeed-97f5-4209-98ac-adb832bdbc8f</td>\n",
       "      <td>DeBonáir Suavé</td>\n",
       "      <td>very negative</td>\n",
       "      <td>March 1, 2019</td>\n",
       "      <td>EVERYTHING ON THIS APP IS BROKEN. I WAS BEING ...</td>\n",
       "      <td>0</td>\n",
       "      <td>NaN</td>\n",
       "      <td>NaN</td>\n",
       "      <td>everything app broken charged something wasnt ...</td>\n",
       "    </tr>\n",
       "    <tr>\n",
       "      <th>4997</th>\n",
       "      <td>94e77128-9474-4076-b4a1-2ac6b880c8f3</td>\n",
       "      <td>Tech-accessoire</td>\n",
       "      <td>neutral</td>\n",
       "      <td>March 30, 2019</td>\n",
       "      <td>Merci  il nous demande de mettre un commentair...</td>\n",
       "      <td>0</td>\n",
       "      <td>NaN</td>\n",
       "      <td>NaN</td>\n",
       "      <td>merci il nous demande de mettre un commentaire...</td>\n",
       "    </tr>\n",
       "    <tr>\n",
       "      <th>4998</th>\n",
       "      <td>94e77128-9474-4076-b4a1-2ac6b880c8f3</td>\n",
       "      <td>Edwinclarke.com</td>\n",
       "      <td>positive</td>\n",
       "      <td>March 29, 2019</td>\n",
       "      <td>En tant que site européen, j'utilise cette app...</td>\n",
       "      <td>0</td>\n",
       "      <td>NaN</td>\n",
       "      <td>NaN</td>\n",
       "      <td>en tant que site europ en j utilise cette appl...</td>\n",
       "    </tr>\n",
       "  </tbody>\n",
       "</table>\n",
       "<p>4999 rows × 9 columns</p>\n",
       "</div>"
      ],
      "text/plain": [
       "                                    app_id                   author  \\\n",
       "0     b1da53a4-0474-4700-9620-bf386bc033fb                 Consuela   \n",
       "1     b1da53a4-0474-4700-9620-bf386bc033fb         L'Atelier Global   \n",
       "2     b1da53a4-0474-4700-9620-bf386bc033fb        city'super E-Shop   \n",
       "3     b1da53a4-0474-4700-9620-bf386bc033fb  PortableHandwashing.com   \n",
       "4     b1da53a4-0474-4700-9620-bf386bc033fb                ICCTUNING   \n",
       "...                                    ...                      ...   \n",
       "4994  b13f9c06-c950-419e-ab51-a8b73cd55738                 Southinc   \n",
       "4995  b13f9c06-c950-419e-ab51-a8b73cd55738                   Jchats   \n",
       "4996  b6ffbeed-97f5-4209-98ac-adb832bdbc8f           DeBonáir Suavé   \n",
       "4997  94e77128-9474-4076-b4a1-2ac6b880c8f3          Tech-accessoire   \n",
       "4998  94e77128-9474-4076-b4a1-2ac6b880c8f3          Edwinclarke.com   \n",
       "\n",
       "             rating       posted_at  \\\n",
       "0     very positive  August 6, 2020   \n",
       "1     very positive  August 4, 2020   \n",
       "2     very positive  August 4, 2020   \n",
       "3     very positive   July 30, 2020   \n",
       "4     very positive   July 28, 2020   \n",
       "...             ...             ...   \n",
       "4994  very positive   April 3, 2018   \n",
       "4995  very positive   April 3, 2018   \n",
       "4996  very negative   March 1, 2019   \n",
       "4997        neutral  March 30, 2019   \n",
       "4998       positive  March 29, 2019   \n",
       "\n",
       "                                                   body  helpful_count  \\\n",
       "0     Great and super fast customer service! Highly ...              0   \n",
       "1     Still setting up my store, and after initially...              0   \n",
       "2     This is an excellent search app, which they ha...              0   \n",
       "3     A+, great great great customer service! thanks...              0   \n",
       "4     I'm begginig to use this app, the search engin...              0   \n",
       "...                                                 ...            ...   \n",
       "4994   the app works very well and i couldnt be happier              0   \n",
       "4995  THANK YOU FOR FREE APP.\\nI THINK THIS DEFINITE...              0   \n",
       "4996  EVERYTHING ON THIS APP IS BROKEN. I WAS BEING ...              0   \n",
       "4997  Merci  il nous demande de mettre un commentair...              0   \n",
       "4998  En tant que site européen, j'utilise cette app...              0   \n",
       "\n",
       "     developer_reply developer_reply_posted_at  \\\n",
       "0                NaN                       NaN   \n",
       "1                NaN                       NaN   \n",
       "2                NaN                       NaN   \n",
       "3                NaN                       NaN   \n",
       "4                NaN                       NaN   \n",
       "...              ...                       ...   \n",
       "4994             NaN                       NaN   \n",
       "4995             NaN                       NaN   \n",
       "4996             NaN                       NaN   \n",
       "4997             NaN                       NaN   \n",
       "4998             NaN                       NaN   \n",
       "\n",
       "                                             final_text  \n",
       "0     great super fast customer service highly custo...  \n",
       "1     still setting store initially paying another s...  \n",
       "2     excellent search app well designed functions h...  \n",
       "3     great great great customer service thanks matt...  \n",
       "4     begginig use app search engine intuitive easy ...  \n",
       "...                                                 ...  \n",
       "4994            app works well couldnt happier positive  \n",
       "4995  thank free app think definitely improve conver...  \n",
       "4996  everything app broken charged something wasnt ...  \n",
       "4997  merci il nous demande de mettre un commentaire...  \n",
       "4998  en tant que site europ en j utilise cette appl...  \n",
       "\n",
       "[4999 rows x 9 columns]"
      ]
     },
     "execution_count": 15,
     "metadata": {},
     "output_type": "execute_result"
    }
   ],
   "source": [
    "df"
   ]
  },
  {
   "cell_type": "code",
   "execution_count": 16,
   "id": "ebab1f1b",
   "metadata": {},
   "outputs": [],
   "source": [
    "X = df['final_text']\n",
    "y = df['rating']"
   ]
  },
  {
   "cell_type": "code",
   "execution_count": 17,
   "id": "e371e826",
   "metadata": {},
   "outputs": [],
   "source": [
    "# Apply TFIDF on cleaned reveiw\n",
    "\n",
    "tfid = TfidfVectorizer()\n",
    "X_final =  tfid.fit_transform(X)"
   ]
  },
  {
   "cell_type": "code",
   "execution_count": 18,
   "id": "19342c25",
   "metadata": {},
   "outputs": [],
   "source": [
    "#Handling imbalanced using SMOTE\n",
    "\n",
    "smote = SMOTE()\n",
    "x_sm,y_sm = smote.fit_resample(X_final,y)"
   ]
  },
  {
   "cell_type": "code",
   "execution_count": 19,
   "id": "6b87da97",
   "metadata": {},
   "outputs": [],
   "source": [
    "# Split Data into train & test \n",
    "\n",
    "X_train, X_test, y_train, y_test = train_test_split(x_sm, y_sm, test_size=0.2)"
   ]
  },
  {
   "cell_type": "markdown",
   "id": "492888d8",
   "metadata": {},
   "source": [
    "### Random forest"
   ]
  },
  {
   "cell_type": "code",
   "execution_count": 20,
   "id": "07e1e27a",
   "metadata": {},
   "outputs": [
    {
     "data": {
      "text/plain": [
       "RandomForestClassifier(random_state=100)"
      ]
     },
     "execution_count": 20,
     "metadata": {},
     "output_type": "execute_result"
    }
   ],
   "source": [
    "\n",
    "rf = RandomForestClassifier(random_state=100)\n",
    "rf.fit(X_train,y_train)"
   ]
  },
  {
   "cell_type": "code",
   "execution_count": 21,
   "id": "5aa80d50",
   "metadata": {},
   "outputs": [],
   "source": [
    "rf_prediction =  rf.predict(X_test)"
   ]
  },
  {
   "cell_type": "code",
   "execution_count": 22,
   "id": "d9212c51",
   "metadata": {},
   "outputs": [
    {
     "data": {
      "text/plain": [
       "0.947680157946693"
      ]
     },
     "execution_count": 22,
     "metadata": {},
     "output_type": "execute_result"
    }
   ],
   "source": [
    "accuracy_score(rf_prediction,y_test)"
   ]
  },
  {
   "cell_type": "markdown",
   "id": "bcd6e402",
   "metadata": {},
   "source": [
    "### XGBClassifier"
   ]
  },
  {
   "cell_type": "code",
   "execution_count": 23,
   "id": "002457ab",
   "metadata": {},
   "outputs": [
    {
     "name": "stderr",
     "output_type": "stream",
     "text": [
      "C:\\Users\\acer\\anaconda3\\envs\\DAB200\\lib\\site-packages\\xgboost\\sklearn.py:1224: UserWarning: The use of label encoder in XGBClassifier is deprecated and will be removed in a future release. To remove this warning, do the following: 1) Pass option use_label_encoder=False when constructing XGBClassifier object; and 2) Encode your labels (y) as integers starting with 0, i.e. 0, 1, 2, ..., [num_class - 1].\n",
      "  warnings.warn(label_encoder_deprecation_msg, UserWarning)\n"
     ]
    },
    {
     "name": "stdout",
     "output_type": "stream",
     "text": [
      "[15:22:09] WARNING: C:/Users/Administrator/workspace/xgboost-win64_release_1.5.1/src/learner.cc:1115: Starting in XGBoost 1.3.0, the default evaluation metric used with the objective 'multi:softprob' was changed from 'merror' to 'mlogloss'. Explicitly set eval_metric if you'd like to restore the old behavior.\n"
     ]
    },
    {
     "data": {
      "text/plain": [
       "XGBClassifier(base_score=0.5, booster='gbtree', colsample_bylevel=1,\n",
       "              colsample_bynode=1, colsample_bytree=1, enable_categorical=False,\n",
       "              gamma=0, gpu_id=-1, importance_type=None,\n",
       "              interaction_constraints='', learning_rate=0.300000012,\n",
       "              max_delta_step=0, max_depth=6, min_child_weight=1, missing=nan,\n",
       "              monotone_constraints='()', n_estimators=100, n_jobs=4,\n",
       "              num_parallel_tree=1, objective='multi:softprob', predictor='auto',\n",
       "              random_state=100, reg_alpha=0, reg_lambda=1,\n",
       "              scale_pos_weight=None, subsample=1, tree_method='exact',\n",
       "              validate_parameters=1, verbosity=None)"
      ]
     },
     "execution_count": 23,
     "metadata": {},
     "output_type": "execute_result"
    }
   ],
   "source": [
    "#XGBClassifier\n",
    "xgb = XGBClassifier(random_state=100)\n",
    "xgb.fit(X_train,y_train)"
   ]
  },
  {
   "cell_type": "code",
   "execution_count": 24,
   "id": "d7545be8",
   "metadata": {},
   "outputs": [],
   "source": [
    "xgb_prediction =  xgb.predict(X_test)"
   ]
  },
  {
   "cell_type": "code",
   "execution_count": 25,
   "id": "903b4d0e",
   "metadata": {},
   "outputs": [
    {
     "data": {
      "text/plain": [
       "0.9312273774267851"
      ]
     },
     "execution_count": 25,
     "metadata": {},
     "output_type": "execute_result"
    }
   ],
   "source": [
    "accuracy_score(xgb_prediction,y_test)"
   ]
  },
  {
   "cell_type": "markdown",
   "id": "ac869362",
   "metadata": {},
   "source": [
    "### GradientBoostingClassifier"
   ]
  },
  {
   "cell_type": "code",
   "execution_count": 26,
   "id": "cb0d2c1d",
   "metadata": {},
   "outputs": [
    {
     "data": {
      "text/plain": [
       "GradientBoostingClassifier(random_state=100)"
      ]
     },
     "execution_count": 26,
     "metadata": {},
     "output_type": "execute_result"
    }
   ],
   "source": [
    "#GradientBoostingClassifier\n",
    "gbc = GradientBoostingClassifier(random_state=100)\n",
    "gbc.fit(X_train,y_train)\n"
   ]
  },
  {
   "cell_type": "code",
   "execution_count": 27,
   "id": "ad78fec5",
   "metadata": {},
   "outputs": [],
   "source": [
    "gbc_prediction =  gbc.predict(X_test)"
   ]
  },
  {
   "cell_type": "code",
   "execution_count": 28,
   "id": "7b3e30aa",
   "metadata": {},
   "outputs": [
    {
     "data": {
      "text/plain": [
       "0.9104968739717012"
      ]
     },
     "execution_count": 28,
     "metadata": {},
     "output_type": "execute_result"
    }
   ],
   "source": [
    "accuracy_score(gbc_prediction,y_test)"
   ]
  },
  {
   "cell_type": "markdown",
   "id": "2778dfd8",
   "metadata": {},
   "source": [
    "### Support vector machine"
   ]
  },
  {
   "cell_type": "code",
   "execution_count": 29,
   "id": "5296e6b8",
   "metadata": {},
   "outputs": [
    {
     "data": {
      "text/plain": [
       "SVC(random_state=100)"
      ]
     },
     "execution_count": 29,
     "metadata": {},
     "output_type": "execute_result"
    }
   ],
   "source": [
    "#Support vector machine\n",
    "svm = SVC(random_state=100)\n",
    "svm.fit(X_train,y_train)"
   ]
  },
  {
   "cell_type": "code",
   "execution_count": 30,
   "id": "8c86d423",
   "metadata": {},
   "outputs": [],
   "source": [
    "svm_prediction =  svm.predict(X_test)"
   ]
  },
  {
   "cell_type": "code",
   "execution_count": 31,
   "id": "92efa726",
   "metadata": {},
   "outputs": [
    {
     "data": {
      "text/plain": [
       "0.9522869364922671"
      ]
     },
     "execution_count": 31,
     "metadata": {},
     "output_type": "execute_result"
    }
   ],
   "source": [
    "accuracy_score(svm_prediction,y_test)"
   ]
  },
  {
   "cell_type": "markdown",
   "id": "8e8d11f9",
   "metadata": {},
   "source": [
    "### Naive Bayes"
   ]
  },
  {
   "cell_type": "code",
   "execution_count": 32,
   "id": "b5afd5c1",
   "metadata": {},
   "outputs": [
    {
     "data": {
      "text/plain": [
       "MultinomialNB()"
      ]
     },
     "execution_count": 32,
     "metadata": {},
     "output_type": "execute_result"
    }
   ],
   "source": [
    "#Naive Bayes\n",
    "nb = MultinomialNB()\n",
    "nb.fit(X_train,y_train)"
   ]
  },
  {
   "cell_type": "code",
   "execution_count": 33,
   "id": "f96dbae9",
   "metadata": {},
   "outputs": [],
   "source": [
    "nb_prediction =  nb.predict(X_test)"
   ]
  },
  {
   "cell_type": "code",
   "execution_count": 34,
   "id": "cdf86928",
   "metadata": {},
   "outputs": [
    {
     "data": {
      "text/plain": [
       "0.8953603158933859"
      ]
     },
     "execution_count": 34,
     "metadata": {},
     "output_type": "execute_result"
    }
   ],
   "source": [
    "accuracy_score(nb_prediction,y_test)"
   ]
  },
  {
   "cell_type": "markdown",
   "id": "998bfc68",
   "metadata": {},
   "source": [
    "### Decision Tree"
   ]
  },
  {
   "cell_type": "code",
   "execution_count": 35,
   "id": "23cf667d",
   "metadata": {},
   "outputs": [
    {
     "data": {
      "text/plain": [
       "DecisionTreeClassifier(random_state=100)"
      ]
     },
     "execution_count": 35,
     "metadata": {},
     "output_type": "execute_result"
    }
   ],
   "source": [
    "#Decision Tree\n",
    "ds = DecisionTreeClassifier(random_state=100)\n",
    "ds.fit(X_train,y_train)"
   ]
  },
  {
   "cell_type": "code",
   "execution_count": 36,
   "id": "d5f724f8",
   "metadata": {},
   "outputs": [],
   "source": [
    "ds_prediction =  ds.predict(X_test)"
   ]
  },
  {
   "cell_type": "code",
   "execution_count": 37,
   "id": "b028a936",
   "metadata": {},
   "outputs": [
    {
     "data": {
      "text/plain": [
       "0.9095097071405067"
      ]
     },
     "execution_count": 37,
     "metadata": {},
     "output_type": "execute_result"
    }
   ],
   "source": [
    "accuracy_score(ds_prediction,y_test)"
   ]
  },
  {
   "cell_type": "code",
   "execution_count": 38,
   "id": "7be28478",
   "metadata": {},
   "outputs": [
    {
     "data": {
      "text/html": [
       "<div>\n",
       "<style scoped>\n",
       "    .dataframe tbody tr th:only-of-type {\n",
       "        vertical-align: middle;\n",
       "    }\n",
       "\n",
       "    .dataframe tbody tr th {\n",
       "        vertical-align: top;\n",
       "    }\n",
       "\n",
       "    .dataframe thead th {\n",
       "        text-align: right;\n",
       "    }\n",
       "</style>\n",
       "<table border=\"1\" class=\"dataframe\">\n",
       "  <thead>\n",
       "    <tr style=\"text-align: right;\">\n",
       "      <th></th>\n",
       "      <th>Model</th>\n",
       "      <th>Score</th>\n",
       "    </tr>\n",
       "  </thead>\n",
       "  <tbody>\n",
       "    <tr>\n",
       "      <th>3</th>\n",
       "      <td>Support vector machine</td>\n",
       "      <td>0.952287</td>\n",
       "    </tr>\n",
       "    <tr>\n",
       "      <th>0</th>\n",
       "      <td>Random Forest</td>\n",
       "      <td>0.947680</td>\n",
       "    </tr>\n",
       "    <tr>\n",
       "      <th>1</th>\n",
       "      <td>XGBClassifier</td>\n",
       "      <td>0.931227</td>\n",
       "    </tr>\n",
       "    <tr>\n",
       "      <th>2</th>\n",
       "      <td>GradientBoostingClassifier</td>\n",
       "      <td>0.910497</td>\n",
       "    </tr>\n",
       "    <tr>\n",
       "      <th>5</th>\n",
       "      <td>Decision Tree</td>\n",
       "      <td>0.909510</td>\n",
       "    </tr>\n",
       "    <tr>\n",
       "      <th>4</th>\n",
       "      <td>Naive Bayes</td>\n",
       "      <td>0.895360</td>\n",
       "    </tr>\n",
       "  </tbody>\n",
       "</table>\n",
       "</div>"
      ],
      "text/plain": [
       "                        Model     Score\n",
       "3      Support vector machine  0.952287\n",
       "0               Random Forest  0.947680\n",
       "1               XGBClassifier  0.931227\n",
       "2  GradientBoostingClassifier  0.910497\n",
       "5               Decision Tree  0.909510\n",
       "4                 Naive Bayes  0.895360"
      ]
     },
     "execution_count": 38,
     "metadata": {},
     "output_type": "execute_result"
    }
   ],
   "source": [
    "# List of models with there respective score\n",
    "\n",
    "models = pd.DataFrame({'Model' : [ 'Random Forest',\n",
    "                                  'XGBClassifier',\n",
    "                                  'GradientBoostingClassifier',\n",
    "                                  'Support vector machine',\n",
    "                                  'Naive Bayes',\n",
    "                                  'Decision Tree'],\n",
    "                       \n",
    "                       'Score' : [ accuracy_score(rf_prediction,y_test),\n",
    "                                  accuracy_score(xgb_prediction,y_test),\n",
    "                                  accuracy_score(gbc_prediction,y_test),\n",
    "                                  accuracy_score(svm_prediction,y_test),\n",
    "                                  accuracy_score(nb_prediction,y_test),\n",
    "                                  accuracy_score(ds_prediction,y_test)]})\n",
    "\n",
    "models.sort_values(by = 'Score', ascending = False)"
   ]
  },
  {
   "cell_type": "code",
   "execution_count": 39,
   "id": "083a449e",
   "metadata": {},
   "outputs": [
    {
     "name": "stdout",
     "output_type": "stream",
     "text": [
      "Classification Report:\n",
      "----------------------\n",
      "                precision    recall  f1-score   support\n",
      "\n",
      "     negative       1.00      1.00      1.00       603\n",
      "      neutral       1.00      1.00      1.00       634\n",
      "     positive       0.84      0.90      0.87       593\n",
      "very negative       1.00      1.00      1.00       602\n",
      "very positive       0.90      0.84      0.86       607\n",
      "\n",
      "     accuracy                           0.95      3039\n",
      "    macro avg       0.95      0.95      0.95      3039\n",
      " weighted avg       0.95      0.95      0.95      3039\n",
      "\n"
     ]
    },
    {
     "data": {
      "image/png": "[encoded data removed]",
      "text/plain": [
       "<Figure size 576x432 with 2 Axes>"
      ]
     },
     "metadata": {
      "needs_background": "light"
     },
     "output_type": "display_data"
    }
   ],
   "source": [
    "# top Two models who give the meximum accurate prediction \n",
    "\n",
    "cr = classification_report(y_test, rf_prediction)\n",
    "\n",
    "print(\"Classification Report:\\n----------------------\\n\", cr)\n",
    "\n",
    "cm = confusion_matrix(y_test,rf_prediction)\n",
    "\n",
    "# plot confusion matrix \n",
    "\n",
    "plt.figure(figsize=(8,6))\n",
    "sentiment_classes = ['Very positive','Positive','Neutral','Negative','Very negative']\n",
    "sns.heatmap(cm, cmap=plt.cm.Reds, annot=True, fmt='d', \n",
    "            xticklabels=sentiment_classes,\n",
    "            yticklabels=sentiment_classes)\n",
    "plt.title('Confusion matrix', fontsize=16)\n",
    "plt.xlabel('Actual label', fontsize=12)\n",
    "plt.ylabel('Predicted label', fontsize=12)\n",
    "plt.show()"
   ]
  },
  {
   "cell_type": "code",
   "execution_count": 40,
   "id": "68083a68",
   "metadata": {},
   "outputs": [
    {
     "name": "stdout",
     "output_type": "stream",
     "text": [
      "Classification Report:\n",
      "----------------------\n",
      "                precision    recall  f1-score   support\n",
      "\n",
      "     negative       1.00      1.00      1.00       603\n",
      "      neutral       1.00      1.00      1.00       634\n",
      "     positive       0.90      0.85      0.87       593\n",
      "very negative       1.00      1.00      1.00       602\n",
      "very positive       0.86      0.91      0.88       607\n",
      "\n",
      "     accuracy                           0.95      3039\n",
      "    macro avg       0.95      0.95      0.95      3039\n",
      " weighted avg       0.95      0.95      0.95      3039\n",
      "\n"
     ]
    },
    {
     "data": {
      "image/png": "[encoded data removed]",
      "text/plain": [
       "<Figure size 576x432 with 2 Axes>"
      ]
     },
     "metadata": {
      "needs_background": "light"
     },
     "output_type": "display_data"
    }
   ],
   "source": [
    "cr = classification_report(y_test, svm_prediction)\n",
    "\n",
    "print(\"Classification Report:\\n----------------------\\n\", cr)\n",
    "\n",
    "cm = confusion_matrix(y_test,rf_prediction)\n",
    "\n",
    "# plot confusion matrix \n",
    "\n",
    "plt.figure(figsize=(8,6))\n",
    "sentiment_classes = ['Very positive','Positive','Neutral','Negative','Very negative']\n",
    "sns.heatmap(cm, cmap=plt.cm.Reds, annot=True, fmt='d', \n",
    "            xticklabels=sentiment_classes,\n",
    "            yticklabels=sentiment_classes)\n",
    "plt.title('Confusion matrix', fontsize=16)\n",
    "plt.xlabel('Actual label', fontsize=12)\n",
    "plt.ylabel('Predicted label', fontsize=12)\n",
    "plt.show()"
   ]
  },
  {
   "cell_type": "markdown",
   "id": "b9cabf98",
   "metadata": {},
   "source": [
    "## Conclusion\n",
    "\n",
    "### here, we can clearly say that, sanderd vector machine and random forest. both the machine learning techhniques give the accurate prediction to identify overall response of customers towards the product based on the comments."
   ]
  },
  {
   "cell_type": "code",
   "execution_count": null,
   "id": "79f2d71a",
   "metadata": {},
   "outputs": [],
   "source": []
  }
 ],
 "metadata": {
  "kernelspec": {
   "display_name": "Python 3",
   "language": "python",
   "name": "python3"
  },
  "language_info": {
   "codemirror_mode": {
    "name": "ipython",
    "version": 3
   },
   "file_extension": ".py",
   "mimetype": "text/x-python",
   "name": "python",
   "nbconvert_exporter": "python",
   "pygments_lexer": "ipython3",
   "version": "3.8.8"
  }
 },
 "nbformat": 4,
 "nbformat_minor": 5
}
